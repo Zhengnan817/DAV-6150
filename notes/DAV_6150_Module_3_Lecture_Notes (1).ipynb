{
  "cells": [
    {
      "cell_type": "markdown",
      "metadata": {
        "id": "wLm7OplYk3LJ"
      },
      "source": [
        "<br>\n",
        "<br>\n",
        "<br>\n",
        "<br>\n",
        "\n",
        "# DAV 6150 Module 3: Feature Engineering + Data Preparation\n",
        "<br>\n",
        "<br>\n",
        "<br>"
      ]
    },
    {
      "cell_type": "markdown",
      "metadata": {
        "id": "eLe0A_llk3LN"
      },
      "source": [
        "## Module 2 Assignment Review\n",
        "\n",
        "#### General Comments\n",
        "\n",
        "- Make sure you are meeting the Assignment / Project requirements as detailed in the Assignment / Project requirements document (e.g., required writeup sections, presentation duration limits, reading data sets from Github, providing written narratives in formatted Markdown cells, ensuring your documents are free of spelling + grammar errors, etc.)\n",
        "\n",
        "\n",
        "- When using K-Fold cross validation, make sure you provide an explanation as to why you chose a specific value for K.\n",
        "\n",
        "\n",
        "- The use of K-Fold cross validation does __NOT__ eliminate the need to separate our data into training and testing subsets. Cross validation is applied to the __training__ subset. The testing subset is then used to assess the performance of the model when applied to previously \"unseen\" data.\n",
        "\n",
        "\n",
        "- Do not include graphics in your EDA that you do not provide a written explanatory narrative for. Graphics lacking explanatory narratives are of no use to a reader of your work.\n",
        "\n",
        "\n",
        "- When performing exploratory data analysis for numeric data, be sure to __always__ create and analyze both a histogram and a boxplot for each numeric variable. Histograms and boxplots provide us with different insights into the distribution of a numeric variable. For example, histograms can provide us with insight into the __shape__ of a distribution, while boxplots help us locate the median and IQR boundaries. As such, both need to be examined and discussed during EDA work."
      ]
    },
    {
      "cell_type": "markdown",
      "source": [
        "**Lets start with an example**. Retrieved from https://youtu.be/nKW8Ndu7Mjw\n",
        "\n",
        "1. Hieght is a useful feature at the extream ends of the distribution, but at the center, we cannot easily determine which dog to predict, given probabilities are similar.\n",
        "2. Feature captures difference information\n",
        "3. Thought experiment -- also refered to as hypothesis - what are features can help us distinguish labs from gryhounds? e.g hair length, speed, weight...\n",
        "4. What is a useless feature? one that is not going to help us distinguish -- it can hurt our models accuracy.\n",
        "5. You want your features to be independent. e.g. hieght(cm) , height(inches). Remove higly correlated features - redundant features. The classifier will double count the importance of this feature.\n",
        "6. Features should be easy to understand.\n"
      ],
      "metadata": {
        "id": "cHBR56gEloku"
      }
    },
    {
      "cell_type": "code",
      "source": [
        "import numpy as np\n",
        "import matplotlib.pyplot as plt\n",
        "\n",
        "greyhound_mean = 500\n",
        "lab_mean = 500\n",
        "\n",
        "grey_height = 28 + 4*np.random.randn(greyhound_mean)\n",
        "lab_height = 24 + 4*np.random.randn(lab_mean)\n",
        "color = ['r', 'b']\n",
        "labels = ['grehound', 'lab']\n",
        "plt.hist([grey_height , lab_height], stacked = True, rwidth=0.7, color = color, label = labels)\n",
        "plt.legend(prop ={'size': 10})\n",
        "\n",
        "plt.ylabel(\"Number of Dogs\")\n",
        "plt.xlabel(\"Height\")\n",
        "plt.show()"
      ],
      "metadata": {
        "colab": {
          "base_uri": "https://localhost:8080/",
          "height": 449
        },
        "id": "cfpStuqultCJ",
        "outputId": "705cd024-fd03-41aa-b2ae-7db838c14d29"
      },
      "execution_count": 9,
      "outputs": [
        {
          "output_type": "display_data",
          "data": {
            "text/plain": [
              "<Figure size 640x480 with 1 Axes>"
            ],
            "image/png": "[encoded data removed]"
          },
          "metadata": {}
        }
      ]
    },
    {
      "cell_type": "markdown",
      "metadata": {
        "id": "wEPmfNbck3LN"
      },
      "source": [
        "# Data vs. Information\n",
        "\n",
        "\n",
        "### What is \"Data\"?\n",
        "\n",
        "In Data Science, __data__ are simply a collection of individual quantitative and/or qualitative values.\n",
        "\n",
        "In this context, __DATA IS NOT INFORMATION__.\n",
        "\n",
        "\n",
        "### What is \"Information\"?\n",
        "\n",
        "By contrast, __information__ is the result of the __summarization, labeling, and analysis of data__.\n",
        "\n",
        "\n",
        "### How do we create \"Information\"?\n",
        "\n",
        "When we gather data for a specific data science project, there is likely to be a fair amount of information already available to us regarding the data we have collected, including:\n",
        "\n",
        "- Why the data was originally collected\n",
        "\n",
        "\n",
        "- How has the data been __categorized__, including the __units of analysis__ used.\n",
        "\n",
        "\n",
        "- How was the data __calculated__ (e.g., were measurements taken? If so, how? Were other mathematical / statistical transformations applied to it? etc.)\n",
        "\n",
        "\n",
        "- Has the data been __condensed / summarized__ in some way?\n",
        "\n",
        "\n",
        "- Have data errors already been corrected or removed from the data?\n",
        "\n",
        "\n",
        "During our EDA work, we are striving to derive __actionable information__ from the data we have at hand.\n",
        "\n",
        "\n",
        "We __create new information__ by:\n",
        "\n",
        "- Generating summary statistics\n",
        "\n",
        "\n",
        "- Generating graphical representations of distributions + relationships between variables and/or between variables and specific categorical values\n",
        "\n",
        "\n",
        "- Imputing missing data values\n",
        "\n",
        "\n",
        "- Transforming data values via mathematical functions (e.g., scaling, standardization, normalization, etc.)\n",
        "\n",
        "\n",
        "- Feature Engineering\n",
        "\n",
        "\n",
        "- etc.\n",
        "\n",
        "\n",
        "\n",
        "### Why would we want to create \"Information\"?\n",
        "\n",
        "The goal of deriving \"information\" from data is __to create information that can drive decision making__. In other words, __our goal is to derive ACTIONABLE INFORMATION from a set of data__.\n",
        "\n",
        "For example, __the results of our EDA work are information__ that __serve as the basis for our data preparation and model building decisions__. Without an effective EDA, __our data preparation and model building efforts are likely to prove to be ineffective__.\n",
        "\n",
        "\n",
        "### Great ! So Now What ??\n",
        "\n",
        "The topics we are learning about in Module 3 are tools / methods we can use to __improve the quality__ of our data. __If we improve the quality of our data, the quality of the information we are able to extract from our data will also improve__. And the better our information is, the more likely it is we will be able to make decisions / take actions that will prove to be effective.\n",
        "\n",
        "\n",
        "## Remember:  Bad Data => Bad Information => Bad Decisions\n",
        "\n",
        "\n",
        "<br>\n",
        "<br>\n"
      ]
    },
    {
      "cell_type": "markdown",
      "metadata": {
        "id": "pflD-iKjk3LO"
      },
      "source": [
        "# Feature Engineering\n",
        "\n",
        "Prior to constructing a model, it is oftentimes beneficial to consider the addition of new attributes (or \"features\") to our data that you believe will either simplify or enhance the performance of our intended model. We create such \"features\" through the use of the __domain knowledge__ we have for the data we plan to make use of.\n",
        "\n",
        "The addition of new attributes/features based on __domain knowledge__ is referred to as __Feature Engineering__.\n",
        "\n",
        "What is a __\"feature\"__? In general, a __feature__ is a characteristic or property of the independent variables we are planning to use for purposes of analysis or model building.\n",
        "\n",
        "In general, we can think of __feature engineering__ as creating new attributes for modeling based on both our __domain knowledge__ and the data we already have at hand.\n",
        "\n",
        "Some examples of __feature engineering__:\n",
        "\n",
        "- __Creation of indicator variables based on our domain knowledge__: For example, if we were working with historical data on US housing prices for the years 2000 - 2018, our domain knowledge could tell us that a major collapse in US housing prices occurred during the 2007 - 2012 timeframe due to the 2007 financial crisis, followed by a recovery that started during the year 2012. As such, if we believe that our overall housing price data content may have been tangibly impacted by the financial crisis, we could create a binary indicator variable that flags every data item within the 2007-2012 time period as potentially having been impacted by the financial crisis (assigning a '1' as the indicator), while all other data items are assigned a '0' for the indicator variable's value.\n",
        "\n",
        "\n",
        "- __Create \"Interaction\" Features__: Interaction features are new metrics we __derive__ from our existing data.Examples include creating new ratios / proportions from our existing data as well as binning / bucketing of numeric data and the de-structuring of date / time values. Dimensionality reduction methods such as Principal Components Analysis (PCA) and Singular Value Decomposition (SVD) create new interaction features through the use of linear algebra techniques.\n",
        "\n",
        "\n",
        "- __Combining Sparse Classifications__: With categorical data, \"sparse classes\" are those that have very few observations within a data set. Such \"sparse data\" can cause problems with a wide variety of predictive and machine learning models (e.g., causing the models to \"overfit\" the data use for model training purposes).  These challenges can oftentimes be overcome by combining sparse classes into new classifications that aggregate the sparse items based on some shared characteristic(s). How we identify such \"shared characteristics\" is highly subjective, i.e., we need to apply our __domain knowledge__ to identify them.\n",
        "\n",
        "\n",
        "- __Adding \"Dummy\" Variables__: We cannot use raw categorical data as input to a model that requires numerical data. Instead, we create a new \"0/1\" binary indicator variable for each categorical data value.\n",
        "\n",
        "\n",
        "- __Removal of Unused Attributes/Features__: Oftentimes our data sets contain attributes that are of no use whatsoever for modeling purposes, such as unique ID's, text descriptions, and any other data that may be unlikely to be available if the model were placed into a \"production\" environment. Such attributes should be removed from the data we plan to use as input to a model.\n",
        "\n",
        "\n",
        "### How to Approach Feature Engineering?\n",
        "\n",
        "1. Using your __domain knowledge__, brainstorm ideas for potential new features relative to the data you have at hand. If you lack sufficient domain knowledge, seek out subject matter experts and/or develop your own critical mass of knowledge via research + reading.\n",
        "\n",
        "\n",
        "2. Create the features you believe will be useful (i.e., figure out how to add them to your data set).\n",
        "\n",
        "\n",
        "3. Test the features within your proposed analysis/model: do they improve the performance of the model? How relevant are they to the data set, i.e., do they provide new information that isn't available in any other attribute/feature already contained in the data set? Are they duplicative/redundant relative to other features/attributes contained within the data set? etc.\n",
        "\n",
        "\n",
        "4. Refine/improve your new features if needed.\n",
        "\n",
        "\n",
        "5. Go back to Step 1 (above) and consider whether the addition of other features would be beneficial."
      ]
    },
    {
      "cell_type": "markdown",
      "metadata": {
        "id": "3TJt8TH7k3LP"
      },
      "source": [
        "# Data Preparation: How to Correct Data Quality Problems\n",
        "\n",
        "On average, 80% of an analytics professional's time is consumed by data preparation tasks (e.g., data cleansing, data transformation / reformatting, data rearrangement, etc.)\n",
        "\n",
        "\n",
        "- Missing Data: What to do when data values are missing from your data set?\n",
        "\n",
        "\n",
        "- Duplicate Data: Should it be removed?\n",
        "\n",
        "\n",
        "- Adding 'Derived' Data: Add new attributes to a data set based on calculations or other analyses that are applied to some subset of the original set of attributes.\n",
        "\n",
        "\n",
        "- Discretization/Binning: Simplification of continuous numerical data for analytical purposes.\n",
        "\n",
        "\n",
        "- Outliers: How to detect and filter them?\n",
        "\n",
        "\n",
        "- Creating Dummy Variables: Convert a categorical variable into a set of \"dummy\" vectors to enable statistical modeling or machine learning."
      ]
    },
    {
      "cell_type": "markdown",
      "metadata": {
        "id": "rZuBuNF3k3LP"
      },
      "source": [
        "## Missing Data\n",
        "\n",
        "- What has caused a data value to be missing? Was it a data collection problem? A data entry problem? Other reason?\n",
        "\n",
        "\n",
        "- What biases might missing values be introducing to the data set? e.g., skewing of mean, median, and mode values; skewing of the distribution of an attribute's values; etc.\n",
        "\n",
        "\n",
        "- Simple solution: Remove use cases containing missing values. However, what if the rest of the use case contains valid data? What impact does discarding that valid data have on a data set?\n",
        "\n",
        "\n",
        "- Simple solution # 2: Remove attributes containing missing values. But this solution can also lead to the removal of otherwise valid data from the data set.\n",
        "\n",
        "\n",
        "- Better (but often still problematic) solution: Fill the missing values with a valid value derived from the actual valid values of the attribute (e.g., mean, mode, median). However, use of the mean, median, or mode to backfill missing values can alter the probability density function (PDF) of the affected attribute. If the PDF changes, what impact does that have on the rest of your otherwise valid data?\n",
        "\n",
        "\n",
        "- Even better solution: Fill the missing values using an approach that __does not__ change the PDF of the affected attribute. Examples include using a linear model or regression model to calculate an appropriate value based on the valid values that populate the rest of the associated use cases.\n"
      ]
    },
    {
      "cell_type": "markdown",
      "source": [
        "Questions from \"Feature Engineering and Selection\", Chapter 8, Handling Missing Data (18 pages).\n",
        "\n",
        "Code: https://github.com/topepo/FES\n",
        "HTML book: https://bookdown.org/max/FES/\n",
        "\n",
        "\n",
        "1. When is it appropriate to simply delete observations containing missing data?\n",
        "2. What types of approaches/algorithms are appropriate for imputing missing numeric data? How about for imputing missing categorical data?\n",
        "3. When is it acceptable to fill a missing data value with the mean of the corresponding attribute?\n",
        "4. In what instances should indicator variables be introduced to a data set to flag missing data values?"
      ],
      "metadata": {
        "id": "06VKMTOwEIAI"
      }
    },
    {
      "cell_type": "markdown",
      "source": [
        "Imputing missing data using KNN. https://www.geeksforgeeks.org/python-imputation-using-the-knnimputer/\n",
        "\n",
        "FES Figure 8.7 Example of KNN techniques: https://bookdown.org/max/FES/imputation-methods.html\n",
        "\n",
        "Also see this for example of imputation using random and linear regression method: https://www.kaggle.com/code/shashankasubrahmanya/missing-data-imputation-using-regression"
      ],
      "metadata": {
        "id": "59zDZQr7JFmM"
      }
    },
    {
      "cell_type": "code",
      "source": [
        "\n",
        "import numpy as np\n",
        "import pandas as pd\n",
        "\n",
        "# import the KNNimputer class\n",
        "from sklearn.impute import KNNImputer\n",
        "\n",
        "# create dataset for marks of a student\n",
        "dict = {'Maths':[80, 90, np.nan, 95],\n",
        "        'Chemistry': [60, 65, 56, np.nan],\n",
        "        'Physics':[np.nan, 57, 80, 78],\n",
        "       'Biology' : [78,83,67,np.nan]}\n",
        "\n",
        "# creating a data frame from the list\n",
        "Before_imputation = pd.DataFrame(dict)\n",
        "#print dataset before imputation\n",
        "print(\"Data Before performing imputation\\n\",Before_imputation)\n",
        "\n",
        "# create an object for KNNImputer\n",
        "imputer = KNNImputer(n_neighbors=2)\n",
        "After_imputation = imputer.fit_transform(Before_imputation)\n",
        "# print dataset after performing the operation\n",
        "print(\"\\n\\nAfter performing imputation\\n\",After_imputation)"
      ],
      "metadata": {
        "colab": {
          "base_uri": "https://localhost:8080/"
        },
        "id": "Jg-PgZa7JIne",
        "outputId": "713c2531-41d7-4d35-90c2-d85c43324fac"
      },
      "execution_count": 32,
      "outputs": [
        {
          "output_type": "stream",
          "name": "stdout",
          "text": [
            "Data Before performing imputation\n",
            "    Maths  Chemistry  Physics  Biology\n",
            "0   80.0       60.0      NaN     78.0\n",
            "1   90.0       65.0     57.0     83.0\n",
            "2    NaN       56.0     80.0     67.0\n",
            "3   95.0        NaN     78.0      NaN\n",
            "\n",
            "\n",
            "After performing imputation\n",
            " [[80.  60.  68.5 78. ]\n",
            " [90.  65.  57.  83. ]\n",
            " [87.5 56.  80.  67. ]\n",
            " [95.  58.  78.  72.5]]\n"
          ]
        }
      ]
    },
    {
      "cell_type": "markdown",
      "source": [
        "MLPR, Ch. 4, Missing Data and Code Along: https://github.com/mattharrison/ml_pocket_reference/blob/master/ch04.ipynb"
      ],
      "metadata": {
        "id": "_0PRHAMNK4EL"
      }
    },
    {
      "cell_type": "markdown",
      "metadata": {
        "id": "sw_O-Ojek3LQ"
      },
      "source": [
        "## Duplicate Data\n",
        "\n",
        "- What has caused a data to be duplicated? Was it a data collection problem? A data entry problem? Other reason? Is it actually __valid__ data?\n",
        "\n",
        "\n",
        "- Simple solution: Remove duplicative use cases. What impact does discarding duplicate data have on a data set?"
      ]
    },
    {
      "cell_type": "markdown",
      "metadata": {
        "id": "lDhS_7Gdk3LQ"
      },
      "source": [
        "## Discretization & Binning\n",
        "\n",
        "See code in: https://pbpython.com/pandas-qcut-cut.html\n",
        "\n",
        "\n",
        "- Separating data into \"bins\" or ranges of values is often necessary for analysis purposes.\n",
        "\n",
        "\n",
        "- How you select your \"bin\" sizes / ranges can significantly impact the results of your analysis. Bins that are too wide can hide pertinent details. Bins that are too narrow can potentially introduce unnecessary \"noise\".\n",
        "\n",
        "\n",
        "- Ideally, bin widths should be equal in size\n",
        "\n",
        "\n",
        "- Simplistic rule of thumb: __binwidth__ = (max(values) - min(values)) / sqrt(n) where n = number of data values\n",
        "\n",
        "\n",
        "- Simplistic rule of thumb: __number of bins__ = sqrt(n) where n = number of data values\n",
        "\n",
        "\n",
        "- In general, use fewer bins for small amounts of data; use more bins for large amounts of data.\n"
      ]
    },
    {
      "cell_type": "markdown",
      "metadata": {
        "id": "od0cJ4P_k3LQ"
      },
      "source": [
        "## Outliers\n",
        "\n",
        "- Outliers can be detected / identified through the use of boolean tests\n",
        "\n",
        "\n",
        "- Check for values that fall far outside the range of the standard deviation for the variable, e.g., we know that 95% of all values will fall within 2 standard deviations of the mean for any variable, so values that fall more than 2.5 or 3 standard deviations from the mean might legitimately be considered as potential outliers.\n",
        "\n",
        "\n",
        "- The multiplier of the standard deviation value to use for outlier detection (i.e., 2x the standard devation? 2.5x? 3x? 5x? 8x? 10x?) will typically be dependent on the nature of the data you are working with: what appears to be an outlier at 2x the standard deviation in one data set might not be in a different data set, so always be sure to __use domain knowledge + empirical testing to find the boundary that works best__. For example, if we use 2x the standard deviation as the boundary, we are implicitly stating that we believe 5% of our data values for the selected column will be outliers, whereas using 3x the standard deviation will identify only approx. 0.3% of the data values for the given variable as outliers.\n",
        "\n",
        "\n",
        "- For zero bound data (i.e., attributes that we know for a fact cannot have a negative value), check for values < 0\n",
        "\n",
        "\n",
        "Once you've identified your outliers, decide what to do with them: leave them alone? Remove them? Replace with another non-outlier value? You need to decide on the appropriate action based on your __domain knowledge__. Remember: __*outliers are not always invalid*__, but they can have a noticeable effect on your analysis. __There is no single \"rule\" that applies to how outliers should be dealt with__."
      ]
    },
    {
      "cell_type": "markdown",
      "metadata": {
        "id": "6MFjEcnPk3LQ"
      },
      "source": [
        "## Creating Dummy Variables\n",
        "\n",
        "- It is not possible to perform numerical statistical analysis using categorical values: categorical variables are not considered to be \"numeric\" for statistical purposes, even if they are nominally comprised of digits.\n",
        "\n",
        "\n",
        "- A categorical variable can assume 2 or more (oftentimes many more) values that each have a discernable non-numeric meaning that is distinct from that of any other categorical value that pertains to that same variable.\n",
        "\n",
        "\n",
        "- To enable statistical analysis of a categorical variable, we must convert the values of the variable into a set of \"dummy\" vectors whose values are either True (the categorical value is present in the use case) or False (the categorical value is not present in the use case). One dummy variable is needed for each nominal categorical attribute value."
      ]
    },
    {
      "cell_type": "markdown",
      "metadata": {
        "id": "C0DlEL-4k3LQ"
      },
      "source": [
        "## Improving data quality through normalization, standardization, transforms & scaling\n",
        "\n",
        "The use of numeric explanatory variables within any machine learning algorithm can prove to be problematic for a variety of reasons. For example:\n",
        "\n",
        "- The numeric explanatory variables within a data set may have vastly different scales / ranges from one another\n",
        "\n",
        "\n",
        "- Outliers can significantly skew the distribution of a numeric variable\n",
        "\n",
        "\n",
        "- Even without outliers, numeric variables may have a skewed distribution\n",
        "\n",
        "\n",
        "- Numeric data might be more heterogeneous than is necessary for the derivation of a high-performing predictive model\n",
        "\n",
        "\n",
        "- Some machine learning algorithms achieve better performance results when all numeric explanatory variables have been __standardized__, i.e., each explanatory variable has been numerically transformed to ensure that its mean value is zero.\n",
        "\n",
        "\n",
        "Many of these problems can be addressed through the use of numeric transforms.\n",
        "\n",
        "__Box-Cox Transforms__ ( https://www.statisticshowto.datasciencecentral.com/box-cox-transformation/) can be applied to many non-normally distributed numeric variables for purposes of transforming such distributions into dispersements that are more Gaussian in nature. The Box-Cox approach seeks to identify an appropriate exponent (Lambda) to use to transform the distribution of a numeric variable into a more Gaussian distribution. The Lambda value indicates the power to which all data values for a given variable should be raised. However, Box-Cox generally requires that all data values within the variable be __positive__. This limitation can be overcome by simply adding a fixed constant to every value within the variable to ensure that each is greater than zero (e.g., if the variable contains negative values, find the minimum value of the variable, then add its inverse + 1 to __all__ values within the variable (e.g., if the minimum value is -67.12, add (67.12 + 1) to __all__ data values within the variable, thereby ensuring that all values have been scaled by an equivalent amount).\n",
        "\n",
        "Some of the most commonly used Box-Cox transforms are listed in the table shown in the link above. Note that the content of the table provides us with a very clear indication of the transformation formula to be used relative to a given exponent value (Lambda).\n",
        "\n",
        "In Python, we can implement Box-Cox transforms via the __sklearn.preprocessing.power_transform()__ function (https://scikit-learn.org/stable/modules/generated/sklearn.preprocessing.power_transform.html ). This function will automatically test the full range of potential exponent values to identify the transform that minimizes the standard deviation of the data.\n",
        "\n",
        "### Other types of scaling methods can also be used to address data quality issues\n",
        "\n",
        "These include normalization, standardization, one-to-many transforms and smoothing splines.\n",
        "\n",
        "#### Normalization vs. Standardization: What's the difference?\n",
        "\n",
        "- __Normalization__: We use normalization when we know that the distribution of our data does not approximate a Gaussian distribution. A common normalization formula is: $Xnormalized = (X - min(X)) / (max(X) - min(X))$.   Use of this formula will transform all data values to fall within the range of $(0 <= Xnormalized <= 1)$. This formula is also referred to as a \"__Min-Max Scaler__\".\n",
        "\n",
        "\n",
        "- __Standardization__: We use standardization when we know that the distributions of our variables are relatively Guassian but adhere to very different scales. A common standardization method makes use of the formula for calculating Z scores: $x' = (x - mean(X)) / standdev(X)$ where $X$ represents the variable being standardized and $x$ represents a single data value within that variable. Transforming all data values within a given variable using this approach will result in a transformed variable having a mean of zero and a standard deviation of 1.  Note that __this is not the same as normalization__: standardization does __NOT__ result in all data values falling with a range of $(0 <= X <= 1)$.\n",
        "\n",
        "\n",
        "__ONE BIG CAVEAT__: Use of these techniques makes our models much less \"interpretable\" to others. For example, how do we interpret the output of a model wherein one numeric input was transformed using a cubing function while another variable was transformed using an inverse square function?\n",
        "\n",
        "\n",
        "__ANOTHER BIG CAVEAT__: None of these techniques are guaranteed to improve the performance of machine learning models; sometimes they do, and sometimes they don't. However, some machine learning algorithms require that all explanatory variables be normalized. Data science practioners must therefore rely on empiricism + any guidelines recommended by the developers of any pre-built machine learning algorithms that might want to employ.\n",
        "\n",
        "\n",
        "__The BOTTOM LINE__: If the application of one of these techniques does not improve the performance of your model relative to its performance when applied to the \"native\" form of your data, __CONTINUE USING THE DATA IN ITS \"NATIVE\" FORMAT\"__. Applying any type of data transformation necessarily increases the complexity of your solution, so if a transformation is adding little to no value to a model, discard the transform."
      ]
    },
    {
      "cell_type": "markdown",
      "metadata": {
        "id": "MBhtQ4EDk3LR"
      },
      "source": [
        "## Remember: After altering your data, be sure to re-run your EDA\n",
        "\n",
        "-  Alterations you make to your original data set for putposes of addressing data quality issues are __VERY__ likely to have a tangible impact on the metrics + summarial information resulting from your EDA work.\n",
        "\n",
        "\n",
        "- Therefore it is imperative that you __re-run your EDA__ after __each cycle__ of data preparation work. Compare the results of your original EDA against those of your \"post-modification\" EDA to determine whether the modifications you have made have achieved their desired results. If not, why not??? Are modifications of your data preparation efforts required? If so, implement your modified data preparation methods and re-run your EDA. Continue this iterative process until you are satisfied with the results.\n",
        "\n",
        "\n",
        "When re-running your EDA, be sure to check for the following:\n",
        "\n",
        "- Have the distributions of any of the variables changed?\n",
        "\n",
        "\n",
        "- Have the relationships between any of the variables changed (e.g., correlation metrics, etc.)\n",
        "\n",
        "\n",
        "- Have any of your preliminary inferences regarding which variables might be more \"predictive\" of a response variable changed?\n",
        "\n",
        "\n",
        "- etc.\n",
        "\n",
        "\n",
        "#### Note that it is up to you as a data science practitioner to determine whether your data is \"acceptable\" for further downstream use. \"Acceptable\" is obviously a highly subjective term so you must use your own judgment.\n",
        "\n",
        "\n",
        "Once your data is in a form that you feel is appropriate for your intended use, __be sure to rely upon the results of your last iteration of EDA to inform all of your subsequent work__."
      ]
    },
    {
      "cell_type": "markdown",
      "metadata": {
        "id": "aAhnk_iUk3LR"
      },
      "source": [
        "## Imbalanced Classes in a Response Variable\n",
        "\n",
        "### What is an \"Imbalanced Classification\"\n",
        "\n",
        "An \"__imbalance__\" occurs within a categorical attribute when one or more of the possible classifications appear within a data set more frequently than do other possible classifications. For example, if we have a categorical attribute with three possible value and the distribution of those classifications within the attribute are such that Class1 appears within 50% of the observations, Class2 appears within 37% of the observations, and Class3 appears within the remaining 13% of observations, we have an \"__imbalanced classification__\" since the Class1 data value dominates the distribution of the attribute.\n",
        "\n",
        "### Why are imbalanced classifications potentially problematic\n",
        "\n",
        "If a single data value dominates a categorical attribute, our ability to formulate a valid / effective predictive model using the attribute will be impeded since the dominant categorical value may tend to introduce bias within our model.\n",
        "\n",
        "#### How can we handle imbalanced classes?\n",
        "\n",
        "__Synthetic Minority Oversampling Technique__ (\"SMOTE\"): The concept of SMOTE is explained in the Module 3 Assigned readings (see __Machine Learning Pocket References, Chapter 9__). SMOTE works by __synthesizing__ new examples from the minority class. The process works as follows:\n",
        "\n",
        "\n",
        "- A random example from the minority class is chosen.\n",
        "\n",
        "\n",
        "- k of the nearest neighbors for that example are found (typically k=5).\n",
        "\n",
        "\n",
        "- An additional randomly selected neighbor is chosen and a synthetic example is created at a randomly selected point between the two examples in feature space.\n",
        "\n",
        "\n",
        "This process is repeated as many times as needed to balance out the classifications for the imbalanced variable\n",
        "\n",
        "The approach is effective because new synthetic examples from the minority class are created that are __plausible__, meaning their features are relatively close to those of existing examples from the minority class.\n",
        "\n",
        "When finished, we then have a balanced class. So if our variable is a binary categorical feature, the __null error rate__ for the data that includes the synthesized observations will be __.50__. With a .50 null error rate, an accuracy metric can be a very effective tool for comparing models.\n",
        "\n",
        "For more details + examples see this link: https://machinelearningmastery.com/smote-oversampling-for-imbalanced-classification/\n",
        "\n",
        "#### So should we always use SMOTE if we have an imbalanced response variable?\n",
        "\n",
        "Not necessarily. It can be effective in some instances but is not guaranteed to improve model performance. As always, we need to test it empirically to judge its efficacy relative to a specific data set.\n",
        "\n",
        "#### Use a different metric\n",
        "Use a metric other than accuracy. Precision and Recall can be used instead.\n"
      ]
    },
    {
      "cell_type": "markdown",
      "metadata": {
        "id": "CWxhsnM-k3LR"
      },
      "source": [
        "## Case Study: Detecting Outliers in hflights' 'Departure Delay' attribute"
      ]
    },
    {
      "cell_type": "code",
      "execution_count": null,
      "metadata": {
        "id": "eINAwYdhk3LS",
        "outputId": "6476b3a2-6049-49e1-9069-e5968908da8e"
      },
      "outputs": [
        {
          "data": {
            "text/html": [
              "<div>\n",
              "<style scoped>\n",
              "    .dataframe tbody tr th:only-of-type {\n",
              "        vertical-align: middle;\n",
              "    }\n",
              "\n",
              "    .dataframe tbody tr th {\n",
              "        vertical-align: top;\n",
              "    }\n",
              "\n",
              "    .dataframe thead th {\n",
              "        text-align: right;\n",
              "    }\n",
              "</style>\n",
              "<table border=\"1\" class=\"dataframe\">\n",
              "  <thead>\n",
              "    <tr style=\"text-align: right;\">\n",
              "      <th></th>\n",
              "      <th>Year</th>\n",
              "      <th>Month</th>\n",
              "      <th>DayofMonth</th>\n",
              "      <th>DayOfWeek</th>\n",
              "      <th>DepTime</th>\n",
              "      <th>ArrTime</th>\n",
              "      <th>UniqueCarrier</th>\n",
              "      <th>FlightNum</th>\n",
              "      <th>TailNum</th>\n",
              "      <th>ActualElapsedTime</th>\n",
              "      <th>...</th>\n",
              "      <th>ArrDelay</th>\n",
              "      <th>DepDelay</th>\n",
              "      <th>Origin</th>\n",
              "      <th>Dest</th>\n",
              "      <th>Distance</th>\n",
              "      <th>TaxiIn</th>\n",
              "      <th>TaxiOut</th>\n",
              "      <th>Cancelled</th>\n",
              "      <th>CancellationCode</th>\n",
              "      <th>Diverted</th>\n",
              "    </tr>\n",
              "  </thead>\n",
              "  <tbody>\n",
              "    <tr>\n",
              "      <th>0</th>\n",
              "      <td>2011</td>\n",
              "      <td>1</td>\n",
              "      <td>1</td>\n",
              "      <td>6</td>\n",
              "      <td>1400.0</td>\n",
              "      <td>1500.0</td>\n",
              "      <td>AA</td>\n",
              "      <td>428</td>\n",
              "      <td>N576AA</td>\n",
              "      <td>60.0</td>\n",
              "      <td>...</td>\n",
              "      <td>-10.0</td>\n",
              "      <td>0.0</td>\n",
              "      <td>IAH</td>\n",
              "      <td>DFW</td>\n",
              "      <td>224</td>\n",
              "      <td>7.0</td>\n",
              "      <td>13.0</td>\n",
              "      <td>0</td>\n",
              "      <td>NaN</td>\n",
              "      <td>0</td>\n",
              "    </tr>\n",
              "    <tr>\n",
              "      <th>1</th>\n",
              "      <td>2011</td>\n",
              "      <td>1</td>\n",
              "      <td>2</td>\n",
              "      <td>7</td>\n",
              "      <td>1401.0</td>\n",
              "      <td>1501.0</td>\n",
              "      <td>AA</td>\n",
              "      <td>428</td>\n",
              "      <td>N557AA</td>\n",
              "      <td>60.0</td>\n",
              "      <td>...</td>\n",
              "      <td>-9.0</td>\n",
              "      <td>1.0</td>\n",
              "      <td>IAH</td>\n",
              "      <td>DFW</td>\n",
              "      <td>224</td>\n",
              "      <td>6.0</td>\n",
              "      <td>9.0</td>\n",
              "      <td>0</td>\n",
              "      <td>NaN</td>\n",
              "      <td>0</td>\n",
              "    </tr>\n",
              "    <tr>\n",
              "      <th>2</th>\n",
              "      <td>2011</td>\n",
              "      <td>1</td>\n",
              "      <td>3</td>\n",
              "      <td>1</td>\n",
              "      <td>1352.0</td>\n",
              "      <td>1502.0</td>\n",
              "      <td>AA</td>\n",
              "      <td>428</td>\n",
              "      <td>N541AA</td>\n",
              "      <td>70.0</td>\n",
              "      <td>...</td>\n",
              "      <td>-8.0</td>\n",
              "      <td>-8.0</td>\n",
              "      <td>IAH</td>\n",
              "      <td>DFW</td>\n",
              "      <td>224</td>\n",
              "      <td>5.0</td>\n",
              "      <td>17.0</td>\n",
              "      <td>0</td>\n",
              "      <td>NaN</td>\n",
              "      <td>0</td>\n",
              "    </tr>\n",
              "    <tr>\n",
              "      <th>3</th>\n",
              "      <td>2011</td>\n",
              "      <td>1</td>\n",
              "      <td>4</td>\n",
              "      <td>2</td>\n",
              "      <td>1403.0</td>\n",
              "      <td>1513.0</td>\n",
              "      <td>AA</td>\n",
              "      <td>428</td>\n",
              "      <td>N403AA</td>\n",
              "      <td>70.0</td>\n",
              "      <td>...</td>\n",
              "      <td>3.0</td>\n",
              "      <td>3.0</td>\n",
              "      <td>IAH</td>\n",
              "      <td>DFW</td>\n",
              "      <td>224</td>\n",
              "      <td>9.0</td>\n",
              "      <td>22.0</td>\n",
              "      <td>0</td>\n",
              "      <td>NaN</td>\n",
              "      <td>0</td>\n",
              "    </tr>\n",
              "    <tr>\n",
              "      <th>4</th>\n",
              "      <td>2011</td>\n",
              "      <td>1</td>\n",
              "      <td>5</td>\n",
              "      <td>3</td>\n",
              "      <td>1405.0</td>\n",
              "      <td>1507.0</td>\n",
              "      <td>AA</td>\n",
              "      <td>428</td>\n",
              "      <td>N492AA</td>\n",
              "      <td>62.0</td>\n",
              "      <td>...</td>\n",
              "      <td>-3.0</td>\n",
              "      <td>5.0</td>\n",
              "      <td>IAH</td>\n",
              "      <td>DFW</td>\n",
              "      <td>224</td>\n",
              "      <td>9.0</td>\n",
              "      <td>9.0</td>\n",
              "      <td>0</td>\n",
              "      <td>NaN</td>\n",
              "      <td>0</td>\n",
              "    </tr>\n",
              "  </tbody>\n",
              "</table>\n",
              "<p>5 rows × 21 columns</p>\n",
              "</div>"
            ],
            "text/plain": [
              "   Year  Month  DayofMonth  DayOfWeek  DepTime  ArrTime UniqueCarrier  \\\n",
              "0  2011      1           1          6   1400.0   1500.0            AA   \n",
              "1  2011      1           2          7   1401.0   1501.0            AA   \n",
              "2  2011      1           3          1   1352.0   1502.0            AA   \n",
              "3  2011      1           4          2   1403.0   1513.0            AA   \n",
              "4  2011      1           5          3   1405.0   1507.0            AA   \n",
              "\n",
              "   FlightNum TailNum  ActualElapsedTime  ...  ArrDelay  DepDelay  Origin Dest  \\\n",
              "0        428  N576AA               60.0  ...     -10.0       0.0     IAH  DFW   \n",
              "1        428  N557AA               60.0  ...      -9.0       1.0     IAH  DFW   \n",
              "2        428  N541AA               70.0  ...      -8.0      -8.0     IAH  DFW   \n",
              "3        428  N403AA               70.0  ...       3.0       3.0     IAH  DFW   \n",
              "4        428  N492AA               62.0  ...      -3.0       5.0     IAH  DFW   \n",
              "\n",
              "  Distance  TaxiIn  TaxiOut  Cancelled  CancellationCode Diverted  \n",
              "0      224     7.0     13.0          0               NaN        0  \n",
              "1      224     6.0      9.0          0               NaN        0  \n",
              "2      224     5.0     17.0          0               NaN        0  \n",
              "3      224     9.0     22.0          0               NaN        0  \n",
              "4      224     9.0      9.0          0               NaN        0  \n",
              "\n",
              "[5 rows x 21 columns]"
            ]
          },
          "execution_count": 5,
          "metadata": {},
          "output_type": "execute_result"
        }
      ],
      "source": [
        "import pandas as pd\n",
        "import numpy as np\n",
        "\n",
        "# import seaborn for graphics\n",
        "import seaborn as sns\n",
        "\n",
        "filename = \"https://raw.githubusercontent.com/jtopor/DAV-5400/master/Project1/hflights.csv\"\n",
        "hf = pd.read_csv(filename)\n",
        "hf.head()"
      ]
    },
    {
      "cell_type": "code",
      "execution_count": null,
      "metadata": {
        "id": "99Ofefvak3LT",
        "outputId": "e1ff6d9e-7c58-407e-ac09-52d9427f7210"
      },
      "outputs": [
        {
          "data": {
            "text/plain": [
              "count    19785.000000\n",
              "mean         8.297700\n",
              "std         23.934218\n",
              "min        -18.000000\n",
              "25%         -3.000000\n",
              "50%          1.000000\n",
              "75%         10.000000\n",
              "max        780.000000\n",
              "Name: DepDelay, dtype: float64"
            ]
          },
          "execution_count": 2,
          "metadata": {},
          "output_type": "execute_result"
        }
      ],
      "source": [
        "# get summary statistics for the DepDelay variable\n",
        "hf.DepDelay.describe()"
      ]
    },
    {
      "cell_type": "code",
      "execution_count": null,
      "metadata": {
        "scrolled": true,
        "id": "7Acr1VhJk3LU",
        "outputId": "62cd4886-7d5f-475e-f47c-9d5b84cfb40b"
      },
      "outputs": [
        {
          "data": {
            "image/png": "[encoded data removed]",
            "text/plain": [
              "<Figure size 432x288 with 1 Axes>"
            ]
          },
          "metadata": {
            "needs_background": "light"
          },
          "output_type": "display_data"
        }
      ],
      "source": [
        "# create a graphic showing the distribution of the non-null DepDelay\n",
        "# values\n",
        "sns.distplot(hf[hf[\"DepDelay\"].notnull()].DepDelay);"
      ]
    },
    {
      "cell_type": "markdown",
      "metadata": {
        "id": "621mGyh6k3LU"
      },
      "source": [
        "Note the severe right skew of the distribution for the DepDelay variable: there seems to be obvious evidence of outlier values, and those outliers are likely to be having a tangible impact on both the distribution AND the summary statistics for the variable (e.g., the mean value)."
      ]
    },
    {
      "cell_type": "code",
      "execution_count": null,
      "metadata": {
        "id": "O2Sqo9BDk3LU",
        "outputId": "4c2e7146-adb7-4f04-9497-91abdc6edfbb"
      },
      "outputs": [
        {
          "data": {
            "text/plain": [
              "(529, 21)"
            ]
          },
          "execution_count": 6,
          "metadata": {},
          "output_type": "execute_result"
        }
      ],
      "source": [
        "# find all hflight rows that have DepDelay values whose values are >\n",
        "# 2.5 standard deviations from the mean of data in that column\n",
        "depdel_outliers = hf[np.abs(hf['DepDelay'] - hf['DepDelay'].mean() ) > (2.5 * hf['DepDelay'].std() )]\n",
        "depdel_outliers.shape"
      ]
    },
    {
      "cell_type": "markdown",
      "metadata": {
        "id": "PDyHGb3gk3LV"
      },
      "source": [
        "The results show that we've found 529 outlier values for DepDelay out of the 20,000 rows we have in the data set. 529/20,000 = 2.645% of the total rows have DepDelay values that fall more than 2.5 standard deviations away from the mean.\n",
        "\n",
        "What if we want to focus on the most extreme outliers for DepDelay? We could try restricting our search to only those DepDelay values that fall more than 5 standard deviations away from the mean:"
      ]
    },
    {
      "cell_type": "code",
      "execution_count": null,
      "metadata": {
        "id": "A8XDiWcSk3LV",
        "outputId": "aaae3649-b5c7-4bf2-a9ea-e447e0d00c64"
      },
      "outputs": [
        {
          "data": {
            "text/plain": [
              "(143, 21)"
            ]
          },
          "execution_count": 7,
          "metadata": {},
          "output_type": "execute_result"
        }
      ],
      "source": [
        "# find all hflight rows that have DepDelay values whose values are >\n",
        "# 5 standard deviations from the mean of data in that column\n",
        "depdel_outliers = hf[np.abs(hf['DepDelay'] - hf['DepDelay'].mean() ) > (5 * hf['DepDelay'].std() )]\n",
        "depdel_outliers.shape"
      ]
    },
    {
      "cell_type": "markdown",
      "metadata": {
        "id": "fQfZyqa0k3LV"
      },
      "source": [
        "Even at 5x the standard deviation, we still find 143 outliers. Let's take a look at them:"
      ]
    },
    {
      "cell_type": "code",
      "execution_count": null,
      "metadata": {
        "id": "jrNHz2Yqk3LV",
        "outputId": "56be6713-20ae-41aa-9ed9-64ae504d53c5"
      },
      "outputs": [
        {
          "data": {
            "text/plain": [
              "count    143.000000\n",
              "mean     180.181818\n",
              "std       74.350203\n",
              "min      128.000000\n",
              "25%      140.000000\n",
              "50%      161.000000\n",
              "75%      193.500000\n",
              "max      780.000000\n",
              "Name: DepDelay, dtype: float64"
            ]
          },
          "execution_count": 8,
          "metadata": {},
          "output_type": "execute_result"
        }
      ],
      "source": [
        "# we find that the 143 flights falling more than 5 standard deviations from\n",
        "# mean DepDeplay value have an average departure delay of more than 3 hours\n",
        "depdel_outliers.DepDelay.describe()"
      ]
    },
    {
      "cell_type": "markdown",
      "metadata": {
        "id": "KjWgPljBk3LW"
      },
      "source": [
        "We find that the 143 flights falling more than 5 standard deviations from the\n",
        "mean DepDeplay value have an average departure delay of more than 3 hours and a median departure delay of 161 minutes."
      ]
    },
    {
      "cell_type": "code",
      "execution_count": null,
      "metadata": {
        "id": "_M461eluk3LW",
        "outputId": "258c6c03-4ac3-40fa-a0ae-b9a426d52f90"
      },
      "outputs": [
        {
          "data": {
            "text/html": [
              "<div>\n",
              "<style scoped>\n",
              "    .dataframe tbody tr th:only-of-type {\n",
              "        vertical-align: middle;\n",
              "    }\n",
              "\n",
              "    .dataframe tbody tr th {\n",
              "        vertical-align: top;\n",
              "    }\n",
              "\n",
              "    .dataframe thead th {\n",
              "        text-align: right;\n",
              "    }\n",
              "</style>\n",
              "<table border=\"1\" class=\"dataframe\">\n",
              "  <thead>\n",
              "    <tr style=\"text-align: right;\">\n",
              "      <th></th>\n",
              "      <th>Year</th>\n",
              "      <th>Month</th>\n",
              "      <th>DayofMonth</th>\n",
              "      <th>DayOfWeek</th>\n",
              "      <th>DepTime</th>\n",
              "      <th>ArrTime</th>\n",
              "      <th>UniqueCarrier</th>\n",
              "      <th>FlightNum</th>\n",
              "      <th>TailNum</th>\n",
              "      <th>ActualElapsedTime</th>\n",
              "      <th>...</th>\n",
              "      <th>ArrDelay</th>\n",
              "      <th>DepDelay</th>\n",
              "      <th>Origin</th>\n",
              "      <th>Dest</th>\n",
              "      <th>Distance</th>\n",
              "      <th>TaxiIn</th>\n",
              "      <th>TaxiOut</th>\n",
              "      <th>Cancelled</th>\n",
              "      <th>CancellationCode</th>\n",
              "      <th>Diverted</th>\n",
              "    </tr>\n",
              "  </thead>\n",
              "  <tbody>\n",
              "    <tr>\n",
              "      <th>309</th>\n",
              "      <td>2011</td>\n",
              "      <td>1</td>\n",
              "      <td>3</td>\n",
              "      <td>1</td>\n",
              "      <td>1801.0</td>\n",
              "      <td>2200.0</td>\n",
              "      <td>B6</td>\n",
              "      <td>622</td>\n",
              "      <td>N206JB</td>\n",
              "      <td>179.0</td>\n",
              "      <td>...</td>\n",
              "      <td>111.0</td>\n",
              "      <td>136.0</td>\n",
              "      <td>HOU</td>\n",
              "      <td>JFK</td>\n",
              "      <td>1428</td>\n",
              "      <td>5.0</td>\n",
              "      <td>9.0</td>\n",
              "      <td>0</td>\n",
              "      <td>NaN</td>\n",
              "      <td>0</td>\n",
              "    </tr>\n",
              "    <tr>\n",
              "      <th>936</th>\n",
              "      <td>2011</td>\n",
              "      <td>1</td>\n",
              "      <td>28</td>\n",
              "      <td>5</td>\n",
              "      <td>1516.0</td>\n",
              "      <td>1916.0</td>\n",
              "      <td>CO</td>\n",
              "      <td>1</td>\n",
              "      <td>N77066</td>\n",
              "      <td>480.0</td>\n",
              "      <td>...</td>\n",
              "      <td>326.0</td>\n",
              "      <td>351.0</td>\n",
              "      <td>IAH</td>\n",
              "      <td>HNL</td>\n",
              "      <td>3904</td>\n",
              "      <td>7.0</td>\n",
              "      <td>10.0</td>\n",
              "      <td>0</td>\n",
              "      <td>NaN</td>\n",
              "      <td>0</td>\n",
              "    </tr>\n",
              "    <tr>\n",
              "      <th>1029</th>\n",
              "      <td>2011</td>\n",
              "      <td>1</td>\n",
              "      <td>28</td>\n",
              "      <td>5</td>\n",
              "      <td>2100.0</td>\n",
              "      <td>2301.0</td>\n",
              "      <td>CO</td>\n",
              "      <td>670</td>\n",
              "      <td>N39418</td>\n",
              "      <td>241.0</td>\n",
              "      <td>...</td>\n",
              "      <td>102.0</td>\n",
              "      <td>129.0</td>\n",
              "      <td>IAH</td>\n",
              "      <td>SFO</td>\n",
              "      <td>1635</td>\n",
              "      <td>8.0</td>\n",
              "      <td>13.0</td>\n",
              "      <td>0</td>\n",
              "      <td>NaN</td>\n",
              "      <td>0</td>\n",
              "    </tr>\n",
              "    <tr>\n",
              "      <th>1148</th>\n",
              "      <td>2011</td>\n",
              "      <td>1</td>\n",
              "      <td>27</td>\n",
              "      <td>4</td>\n",
              "      <td>2017.0</td>\n",
              "      <td>2135.0</td>\n",
              "      <td>CO</td>\n",
              "      <td>59</td>\n",
              "      <td>N75858</td>\n",
              "      <td>138.0</td>\n",
              "      <td>...</td>\n",
              "      <td>143.0</td>\n",
              "      <td>162.0</td>\n",
              "      <td>IAH</td>\n",
              "      <td>DEN</td>\n",
              "      <td>862</td>\n",
              "      <td>6.0</td>\n",
              "      <td>14.0</td>\n",
              "      <td>0</td>\n",
              "      <td>NaN</td>\n",
              "      <td>0</td>\n",
              "    </tr>\n",
              "    <tr>\n",
              "      <th>1154</th>\n",
              "      <td>2011</td>\n",
              "      <td>1</td>\n",
              "      <td>27</td>\n",
              "      <td>4</td>\n",
              "      <td>1822.0</td>\n",
              "      <td>1945.0</td>\n",
              "      <td>CO</td>\n",
              "      <td>137</td>\n",
              "      <td>N77295</td>\n",
              "      <td>203.0</td>\n",
              "      <td>...</td>\n",
              "      <td>210.0</td>\n",
              "      <td>234.0</td>\n",
              "      <td>IAH</td>\n",
              "      <td>LAX</td>\n",
              "      <td>1379</td>\n",
              "      <td>9.0</td>\n",
              "      <td>14.0</td>\n",
              "      <td>0</td>\n",
              "      <td>NaN</td>\n",
              "      <td>0</td>\n",
              "    </tr>\n",
              "    <tr>\n",
              "      <th>1156</th>\n",
              "      <td>2011</td>\n",
              "      <td>1</td>\n",
              "      <td>27</td>\n",
              "      <td>4</td>\n",
              "      <td>2137.0</td>\n",
              "      <td>2254.0</td>\n",
              "      <td>CO</td>\n",
              "      <td>150</td>\n",
              "      <td>N73278</td>\n",
              "      <td>197.0</td>\n",
              "      <td>...</td>\n",
              "      <td>219.0</td>\n",
              "      <td>242.0</td>\n",
              "      <td>IAH</td>\n",
              "      <td>ONT</td>\n",
              "      <td>1334</td>\n",
              "      <td>5.0</td>\n",
              "      <td>13.0</td>\n",
              "      <td>0</td>\n",
              "      <td>NaN</td>\n",
              "      <td>0</td>\n",
              "    </tr>\n",
              "    <tr>\n",
              "      <th>1163</th>\n",
              "      <td>2011</td>\n",
              "      <td>1</td>\n",
              "      <td>27</td>\n",
              "      <td>4</td>\n",
              "      <td>11.0</td>\n",
              "      <td>216.0</td>\n",
              "      <td>CO</td>\n",
              "      <td>209</td>\n",
              "      <td>N17730</td>\n",
              "      <td>245.0</td>\n",
              "      <td>...</td>\n",
              "      <td>137.0</td>\n",
              "      <td>168.0</td>\n",
              "      <td>IAH</td>\n",
              "      <td>PDX</td>\n",
              "      <td>1825</td>\n",
              "      <td>3.0</td>\n",
              "      <td>8.0</td>\n",
              "      <td>0</td>\n",
              "      <td>NaN</td>\n",
              "      <td>0</td>\n",
              "    </tr>\n",
              "    <tr>\n",
              "      <th>1171</th>\n",
              "      <td>2011</td>\n",
              "      <td>1</td>\n",
              "      <td>27</td>\n",
              "      <td>4</td>\n",
              "      <td>2237.0</td>\n",
              "      <td>153.0</td>\n",
              "      <td>CO</td>\n",
              "      <td>250</td>\n",
              "      <td>N39726</td>\n",
              "      <td>136.0</td>\n",
              "      <td>...</td>\n",
              "      <td>208.0</td>\n",
              "      <td>227.0</td>\n",
              "      <td>IAH</td>\n",
              "      <td>RDU</td>\n",
              "      <td>1043</td>\n",
              "      <td>11.0</td>\n",
              "      <td>12.0</td>\n",
              "      <td>0</td>\n",
              "      <td>NaN</td>\n",
              "      <td>0</td>\n",
              "    </tr>\n",
              "    <tr>\n",
              "      <th>1261</th>\n",
              "      <td>2011</td>\n",
              "      <td>1</td>\n",
              "      <td>27</td>\n",
              "      <td>4</td>\n",
              "      <td>1527.0</td>\n",
              "      <td>2202.0</td>\n",
              "      <td>CO</td>\n",
              "      <td>810</td>\n",
              "      <td>N78009</td>\n",
              "      <td>335.0</td>\n",
              "      <td>...</td>\n",
              "      <td>267.0</td>\n",
              "      <td>137.0</td>\n",
              "      <td>IAH</td>\n",
              "      <td>EWR</td>\n",
              "      <td>1400</td>\n",
              "      <td>140.0</td>\n",
              "      <td>19.0</td>\n",
              "      <td>0</td>\n",
              "      <td>NaN</td>\n",
              "      <td>0</td>\n",
              "    </tr>\n",
              "    <tr>\n",
              "      <th>1275</th>\n",
              "      <td>2011</td>\n",
              "      <td>1</td>\n",
              "      <td>27</td>\n",
              "      <td>4</td>\n",
              "      <td>2133.0</td>\n",
              "      <td>2216.0</td>\n",
              "      <td>CO</td>\n",
              "      <td>1411</td>\n",
              "      <td>N37274</td>\n",
              "      <td>43.0</td>\n",
              "      <td>...</td>\n",
              "      <td>134.0</td>\n",
              "      <td>148.0</td>\n",
              "      <td>IAH</td>\n",
              "      <td>AUS</td>\n",
              "      <td>140</td>\n",
              "      <td>5.0</td>\n",
              "      <td>12.0</td>\n",
              "      <td>0</td>\n",
              "      <td>NaN</td>\n",
              "      <td>0</td>\n",
              "    </tr>\n",
              "  </tbody>\n",
              "</table>\n",
              "<p>10 rows × 21 columns</p>\n",
              "</div>"
            ],
            "text/plain": [
              "      Year  Month  DayofMonth  DayOfWeek  DepTime  ArrTime UniqueCarrier  \\\n",
              "309   2011      1           3          1   1801.0   2200.0            B6   \n",
              "936   2011      1          28          5   1516.0   1916.0            CO   \n",
              "1029  2011      1          28          5   2100.0   2301.0            CO   \n",
              "1148  2011      1          27          4   2017.0   2135.0            CO   \n",
              "1154  2011      1          27          4   1822.0   1945.0            CO   \n",
              "1156  2011      1          27          4   2137.0   2254.0            CO   \n",
              "1163  2011      1          27          4     11.0    216.0            CO   \n",
              "1171  2011      1          27          4   2237.0    153.0            CO   \n",
              "1261  2011      1          27          4   1527.0   2202.0            CO   \n",
              "1275  2011      1          27          4   2133.0   2216.0            CO   \n",
              "\n",
              "      FlightNum TailNum  ActualElapsedTime  ...  ArrDelay  DepDelay  Origin  \\\n",
              "309         622  N206JB              179.0  ...     111.0     136.0     HOU   \n",
              "936           1  N77066              480.0  ...     326.0     351.0     IAH   \n",
              "1029        670  N39418              241.0  ...     102.0     129.0     IAH   \n",
              "1148         59  N75858              138.0  ...     143.0     162.0     IAH   \n",
              "1154        137  N77295              203.0  ...     210.0     234.0     IAH   \n",
              "1156        150  N73278              197.0  ...     219.0     242.0     IAH   \n",
              "1163        209  N17730              245.0  ...     137.0     168.0     IAH   \n",
              "1171        250  N39726              136.0  ...     208.0     227.0     IAH   \n",
              "1261        810  N78009              335.0  ...     267.0     137.0     IAH   \n",
              "1275       1411  N37274               43.0  ...     134.0     148.0     IAH   \n",
              "\n",
              "     Dest Distance  TaxiIn  TaxiOut  Cancelled  CancellationCode Diverted  \n",
              "309   JFK     1428     5.0      9.0          0               NaN        0  \n",
              "936   HNL     3904     7.0     10.0          0               NaN        0  \n",
              "1029  SFO     1635     8.0     13.0          0               NaN        0  \n",
              "1148  DEN      862     6.0     14.0          0               NaN        0  \n",
              "1154  LAX     1379     9.0     14.0          0               NaN        0  \n",
              "1156  ONT     1334     5.0     13.0          0               NaN        0  \n",
              "1163  PDX     1825     3.0      8.0          0               NaN        0  \n",
              "1171  RDU     1043    11.0     12.0          0               NaN        0  \n",
              "1261  EWR     1400   140.0     19.0          0               NaN        0  \n",
              "1275  AUS      140     5.0     12.0          0               NaN        0  \n",
              "\n",
              "[10 rows x 21 columns]"
            ]
          },
          "execution_count": 9,
          "metadata": {},
          "output_type": "execute_result"
        }
      ],
      "source": [
        "# check the first 10 rows\n",
        "depdel_outliers.head(10)"
      ]
    },
    {
      "cell_type": "markdown",
      "metadata": {
        "id": "ww_bCpYXk3LW"
      },
      "source": [
        "What happens to the summary statistics for the DepDelay variable if we remove these 143 extreme outliers?"
      ]
    },
    {
      "cell_type": "code",
      "execution_count": null,
      "metadata": {
        "id": "4MwX90M6k3LW",
        "outputId": "983437d8-a164-4db3-9144-592c174ad509"
      },
      "outputs": [
        {
          "data": {
            "text/plain": [
              "(20000,)"
            ]
          },
          "execution_count": 10,
          "metadata": {},
          "output_type": "execute_result"
        }
      ],
      "source": [
        "# create a temporary series for the DepDelay variable\n",
        "DepDelay_temp = hf.DepDelay\n",
        "DepDelay_temp.shape"
      ]
    },
    {
      "cell_type": "code",
      "execution_count": null,
      "metadata": {
        "id": "wbKduMGxk3LW",
        "outputId": "0a41b697-c1d5-4eba-a535-206cd0c33eb1"
      },
      "outputs": [
        {
          "data": {
            "text/plain": [
              "(19857,)"
            ]
          },
          "execution_count": 11,
          "metadata": {},
          "output_type": "execute_result"
        }
      ],
      "source": [
        "# now remove the extreme outliers from the temporary series\n",
        "DD2 = DepDelay_temp.drop(depdel_outliers.index.values)\n",
        "DD2.shape"
      ]
    },
    {
      "cell_type": "code",
      "execution_count": null,
      "metadata": {
        "scrolled": true,
        "id": "qajC27osk3LX",
        "outputId": "e199e6c3-fad1-4c55-cf8a-83d03dac4f92"
      },
      "outputs": [
        {
          "data": {
            "text/plain": [
              "count    19642.000000\n",
              "mean         7.046329\n",
              "std         17.899270\n",
              "min        -18.000000\n",
              "25%         -3.000000\n",
              "50%          1.000000\n",
              "75%         10.000000\n",
              "max        127.000000\n",
              "Name: DepDelay, dtype: float64"
            ]
          },
          "execution_count": 12,
          "metadata": {},
          "output_type": "execute_result"
        }
      ],
      "source": [
        "# get summary statistics after the extreme outliers have been removed\n",
        "DD2.describe()"
      ]
    },
    {
      "cell_type": "markdown",
      "metadata": {
        "id": "XXQtVlCzk3LX"
      },
      "source": [
        "Note how the mean decreased from 8.2977 to 7.046 while the standard deviation decreased from 23.934218 to 17.899: these are significant changes, i.e.,  the __mean__ value has __decreased__ by __more than 15%__ while the __standard deviation__ value has __decreased__ by __more than 25%__.\n",
        "\n",
        "Let's look at how the removal of the extreme outliers effected the distribution of the variable:"
      ]
    },
    {
      "cell_type": "code",
      "execution_count": null,
      "metadata": {
        "id": "dE9gIGckk3LX",
        "outputId": "33f36bf8-65b9-433e-dc8c-8425bb9e34ee"
      },
      "outputs": [
        {
          "data": {
            "image/png": "[encoded data removed]",
            "text/plain": [
              "<Figure size 432x288 with 1 Axes>"
            ]
          },
          "metadata": {
            "needs_background": "light"
          },
          "output_type": "display_data"
        }
      ],
      "source": [
        "# create a graphic showing the distribution of the non-null DepDelay\n",
        "# values\n",
        "sns.distplot(DD2[DD2.notnull()]);"
      ]
    },
    {
      "cell_type": "markdown",
      "metadata": {
        "id": "oEeE3x8dk3LX"
      },
      "source": [
        "Let's make a facet plot showing how these DepDelay outliers are distributed by UniqueCarrier and Origin:"
      ]
    },
    {
      "cell_type": "code",
      "execution_count": null,
      "metadata": {
        "id": "0e4k4jcik3LY",
        "outputId": "c7fe5e40-b9d4-4740-e739-c2637331d988"
      },
      "outputs": [
        {
          "data": {
            "image/png": "[encoded data removed]",
            "text/plain": [
              "<Figure size 720x360 with 2 Axes>"
            ]
          },
          "metadata": {
            "needs_background": "light"
          },
          "output_type": "display_data"
        }
      ],
      "source": [
        "# facet grid for UniqueCarrier vs. DepDelay outliers by point of origin\n",
        "# NOTE: the 'factorplot()' function has been renamed to \"catplot()\"\n",
        "\n",
        "sns.catplot(x='UniqueCarrier', y='DepDelay', col='Origin',\n",
        "               kind='bar', data= depdel_outliers);"
      ]
    },
    {
      "cell_type": "markdown",
      "metadata": {
        "id": "_jTGkFw2k3LY"
      },
      "source": [
        "We see that airlines flying out of IAH appear to experience longer average extreme departure delays than do airlines flying out of HOU. What might be the reason for this?\n",
        "\n",
        "We also see that Delta ('DL') seems to experience the highest average severe departure delays of the airlines flying out of IAH. Let's see if we can identify the destinations most impacted by such delays:"
      ]
    },
    {
      "cell_type": "code",
      "execution_count": null,
      "metadata": {
        "id": "zx1rqgouk3LY",
        "outputId": "0e273e1e-bba2-49b9-899e-6ceebdd78ce9"
      },
      "outputs": [
        {
          "data": {
            "text/html": [
              "<div>\n",
              "<style scoped>\n",
              "    .dataframe tbody tr th:only-of-type {\n",
              "        vertical-align: middle;\n",
              "    }\n",
              "\n",
              "    .dataframe tbody tr th {\n",
              "        vertical-align: top;\n",
              "    }\n",
              "\n",
              "    .dataframe thead th {\n",
              "        text-align: right;\n",
              "    }\n",
              "</style>\n",
              "<table border=\"1\" class=\"dataframe\">\n",
              "  <thead>\n",
              "    <tr style=\"text-align: right;\">\n",
              "      <th></th>\n",
              "      <th>Year</th>\n",
              "      <th>Month</th>\n",
              "      <th>DayofMonth</th>\n",
              "      <th>DayOfWeek</th>\n",
              "      <th>DepTime</th>\n",
              "      <th>ArrTime</th>\n",
              "      <th>UniqueCarrier</th>\n",
              "      <th>FlightNum</th>\n",
              "      <th>TailNum</th>\n",
              "      <th>ActualElapsedTime</th>\n",
              "      <th>...</th>\n",
              "      <th>ArrDelay</th>\n",
              "      <th>DepDelay</th>\n",
              "      <th>Origin</th>\n",
              "      <th>Dest</th>\n",
              "      <th>Distance</th>\n",
              "      <th>TaxiIn</th>\n",
              "      <th>TaxiOut</th>\n",
              "      <th>Cancelled</th>\n",
              "      <th>CancellationCode</th>\n",
              "      <th>Diverted</th>\n",
              "    </tr>\n",
              "  </thead>\n",
              "  <tbody>\n",
              "    <tr>\n",
              "      <th>6507</th>\n",
              "      <td>2011</td>\n",
              "      <td>1</td>\n",
              "      <td>12</td>\n",
              "      <td>3</td>\n",
              "      <td>1038.0</td>\n",
              "      <td>1340.0</td>\n",
              "      <td>DL</td>\n",
              "      <td>1900</td>\n",
              "      <td>N934DL</td>\n",
              "      <td>122.0</td>\n",
              "      <td>...</td>\n",
              "      <td>210.0</td>\n",
              "      <td>218.0</td>\n",
              "      <td>IAH</td>\n",
              "      <td>ATL</td>\n",
              "      <td>689</td>\n",
              "      <td>21.0</td>\n",
              "      <td>13.0</td>\n",
              "      <td>0</td>\n",
              "      <td>NaN</td>\n",
              "      <td>0</td>\n",
              "    </tr>\n",
              "    <tr>\n",
              "      <th>6529</th>\n",
              "      <td>2011</td>\n",
              "      <td>1</td>\n",
              "      <td>15</td>\n",
              "      <td>6</td>\n",
              "      <td>941.0</td>\n",
              "      <td>1230.0</td>\n",
              "      <td>DL</td>\n",
              "      <td>1248</td>\n",
              "      <td>N366NB</td>\n",
              "      <td>109.0</td>\n",
              "      <td>...</td>\n",
              "      <td>223.0</td>\n",
              "      <td>236.0</td>\n",
              "      <td>IAH</td>\n",
              "      <td>ATL</td>\n",
              "      <td>689</td>\n",
              "      <td>8.0</td>\n",
              "      <td>15.0</td>\n",
              "      <td>0</td>\n",
              "      <td>NaN</td>\n",
              "      <td>0</td>\n",
              "    </tr>\n",
              "    <tr>\n",
              "      <th>6532</th>\n",
              "      <td>2011</td>\n",
              "      <td>1</td>\n",
              "      <td>15</td>\n",
              "      <td>6</td>\n",
              "      <td>1737.0</td>\n",
              "      <td>2035.0</td>\n",
              "      <td>DL</td>\n",
              "      <td>1590</td>\n",
              "      <td>N762NC</td>\n",
              "      <td>118.0</td>\n",
              "      <td>...</td>\n",
              "      <td>487.0</td>\n",
              "      <td>488.0</td>\n",
              "      <td>IAH</td>\n",
              "      <td>ATL</td>\n",
              "      <td>689</td>\n",
              "      <td>6.0</td>\n",
              "      <td>18.0</td>\n",
              "      <td>0</td>\n",
              "      <td>NaN</td>\n",
              "      <td>0</td>\n",
              "    </tr>\n",
              "  </tbody>\n",
              "</table>\n",
              "<p>3 rows × 21 columns</p>\n",
              "</div>"
            ],
            "text/plain": [
              "      Year  Month  DayofMonth  DayOfWeek  DepTime  ArrTime UniqueCarrier  \\\n",
              "6507  2011      1          12          3   1038.0   1340.0            DL   \n",
              "6529  2011      1          15          6    941.0   1230.0            DL   \n",
              "6532  2011      1          15          6   1737.0   2035.0            DL   \n",
              "\n",
              "      FlightNum TailNum  ActualElapsedTime  ...  ArrDelay  DepDelay  Origin  \\\n",
              "6507       1900  N934DL              122.0  ...     210.0     218.0     IAH   \n",
              "6529       1248  N366NB              109.0  ...     223.0     236.0     IAH   \n",
              "6532       1590  N762NC              118.0  ...     487.0     488.0     IAH   \n",
              "\n",
              "     Dest Distance  TaxiIn  TaxiOut  Cancelled  CancellationCode Diverted  \n",
              "6507  ATL      689    21.0     13.0          0               NaN        0  \n",
              "6529  ATL      689     8.0     15.0          0               NaN        0  \n",
              "6532  ATL      689     6.0     18.0          0               NaN        0  \n",
              "\n",
              "[3 rows x 21 columns]"
            ]
          },
          "execution_count": 15,
          "metadata": {},
          "output_type": "execute_result"
        }
      ],
      "source": [
        "# display a list of extreme departure delays for Delta w origin = IAH\n",
        "depdel_outliers[(depdel_outliers.UniqueCarrier == 'DL') & (depdel_outliers.Origin == 'IAH')]"
      ]
    },
    {
      "cell_type": "markdown",
      "metadata": {
        "id": "mzEhgkimk3LZ"
      },
      "source": [
        "From the table above we can see there were three extreme departure delays for Delta having an origin of IAH, all of them having a destination of 'ATL', and two of them occurred on the same day (1/15/2011)."
      ]
    },
    {
      "cell_type": "markdown",
      "metadata": {
        "id": "ew7Ep5Wik3LZ"
      },
      "source": [
        "Let's create a facet plot showing how these extreme departure delays are distributed by the day of the week for each point of origin:"
      ]
    },
    {
      "cell_type": "code",
      "execution_count": null,
      "metadata": {
        "id": "-U46YTgnk3LZ",
        "outputId": "ff693334-2924-4eec-f50b-f712f08763cf"
      },
      "outputs": [
        {
          "data": {
            "image/png": "[encoded data removed]",
            "text/plain": [
              "<Figure size 720x360 with 2 Axes>"
            ]
          },
          "metadata": {
            "needs_background": "light"
          },
          "output_type": "display_data"
        }
      ],
      "source": [
        "# facet grid for Dest vs. DepDelay outliers by point of origin\n",
        "# NOTE: the 'factorplot()' function has been renamed to \"catplot()\"\n",
        "\n",
        "sns.catplot(x='DayOfWeek', y='DepDelay', col='Origin',\n",
        "               kind='bar', data= depdel_outliers);"
      ]
    },
    {
      "cell_type": "markdown",
      "source": [
        "# **Group exercise:**\n",
        "\n",
        "Elite Data Science: https://elitedatascience.com/feature-engineering\n",
        "\n",
        "1. What's the difference between an indicator variable and a dummy variable?\n",
        "2. In what instances, should each be used?\n",
        "3. What are interaction features and how can they be used?\n",
        "4. How might the combining of sparse classes be an effective method of improving the quality of a data set?\n",
        "5. How might the removal of certain attributes also accomplish this?"
      ],
      "metadata": {
        "id": "ezTbhNLrtDN5"
      }
    },
    {
      "cell_type": "code",
      "source": [
        "import numpy as np\n",
        "import pandas as pd\n",
        "\n",
        "wall_names = [\"wood\", \"wood siding\", \"wood shingle\", \"concrete block\",\n",
        "       'stucco', 'masonry', 'asbestos', 'other',\n",
        "       'Other','brick', 'metal', 'combination']\n",
        "wall_counts = [2,3,10,6,5,7,3,2,4,12,25,35]\n",
        "\n",
        "fig, ax = plt.subplots()\n",
        "bar_container = ax.barh(wall_names, wall_counts)\n",
        "ax.set(ylabel='Count of Walls', title='Categorical feature before combining sparse', xlim=(0, 40))\n",
        "ax.bar_label(bar_container, fmt='{:,.0f}')\n",
        "\n",
        "wall_names = [\"wood\",'other','brick', 'metal', 'combination']\n",
        "wall_counts = [15, 27, 12, 25, 35]\n",
        "\n",
        "fig, ax = plt.subplots()\n",
        "bar_container = ax.barh(wall_names, wall_counts)\n",
        "ax.set(ylabel='Count of Walls', title='Categorical feature after grouping', xlim=(0, 40))\n",
        "ax.bar_label(bar_container, fmt='{:,.0f}')\n",
        "\n"
      ],
      "metadata": {
        "colab": {
          "base_uri": "https://localhost:8080/",
          "height": 972
        },
        "id": "JsewZzrqw4hp",
        "outputId": "83d8a38b-0b94-42b4-9a21-ec6ed823c01f"
      },
      "execution_count": 30,
      "outputs": [
        {
          "output_type": "execute_result",
          "data": {
            "text/plain": [
              "[Text(0, 0, '15'),\n",
              " Text(0, 0, '27'),\n",
              " Text(0, 0, '12'),\n",
              " Text(0, 0, '25'),\n",
              " Text(0, 0, '35')]"
            ]
          },
          "metadata": {},
          "execution_count": 30
        },
        {
          "output_type": "display_data",
          "data": {
            "text/plain": [
              "<Figure size 640x480 with 1 Axes>"
            ],
            "image/png": "[encoded data removed]"
          },
          "metadata": {}
        },
        {
          "output_type": "display_data",
          "data": {
            "text/plain": [
              "<Figure size 640x480 with 1 Axes>"
            ],
            "image/png": "[encoded data removed]"
          },
          "metadata": {}
        }
      ]
    },
    {
      "cell_type": "markdown",
      "source": [
        "1. Most machine learning algorithms cannot directly handle categorical features. Specifically, they cannot handle text values. Therefore, we need to create dummy variables for our categorical features.\n",
        "\n",
        "2. Unused features are those that don’t make sense to pass into our machine learning algorithms. Examples include:\n",
        "ID columns\n",
        "Features that wouldn’t be available at the time of prediction\n",
        "Other text descriptions"
      ],
      "metadata": {
        "id": "AXldQdYnBbVm"
      }
    },
    {
      "cell_type": "markdown",
      "source": [
        "# Assigned Reading\n",
        "\n",
        "- Read FES, Ch. 5, Encoding Categorical Predictors (27 pages) and Ch. 6, Engineering Numeric Predictors (pp. 121-134)\n",
        "\n",
        "- Read MLPR, Ch. 7, Preprocess Data and Code Along\n",
        "As you read, be sure to run the associated MLPR chapter 7 python code Links to an external site. for hands-on preprocessing practice. https://github.com/mattharrison/ml_pocket_reference/blob/master/ch07.ipynb\n",
        "\n",
        "- Read MLPR, Ch. 9 and Code Along imbalanced class https://github.com/mattharrison/ml_pocket_reference/blob/master/ch09.ipynb"
      ],
      "metadata": {
        "id": "df9Jf1wMvKnq"
      }
    },
    {
      "cell_type": "markdown",
      "metadata": {
        "id": "wNN_ifjpk3LZ"
      },
      "source": [
        "# Module 3 Assignment Guidelines / Requirements\n",
        "\n",
        "[See Assignment](https://yu.instructure.com/courses/63488/assignments/324296?module_item_id=1157241)\n",
        "\n",
        "**You may work in small groups of no more than three (3) people for this Assignment**\n",
        "\n",
        "If you decide to work in groups, clearly divide your work such that each coded section is referenced by the person who contributed to the code.\n"
      ]
    },
    {
      "cell_type": "code",
      "source": [
        "\n",
        "import pandas as pd\n",
        "\n",
        "df=pd.read_csv('https://raw.githubusercontent.com/SamarDeen/Yeshiva/main/M3_Data.csv',\n",
        "               usecols = ['TARGET',\t'FixedAcidity',\t'VolatileAcidity',\t'CitricAcid',\t'ResidualSugar',\t'Chlorides',\t'FreeSulfurDioxide',\n",
        "                           'TotalSulfurDioxide',\t'Density',  'pH',\t'Sulphates',\t'Alcohol',\t'LabelAppeal',\t'AcidIndex',\t'STARS'])\n",
        "df.head(2)\n"
      ],
      "metadata": {
        "colab": {
          "base_uri": "https://localhost:8080/",
          "height": 131
        },
        "id": "NbGCHdUU0gMn",
        "outputId": "36ea5d40-8ff5-4e65-ef3f-bd8ba517d98a"
      },
      "execution_count": 45,
      "outputs": [
        {
          "output_type": "execute_result",
          "data": {
            "text/plain": [
              "   TARGET  FixedAcidity  VolatileAcidity  CitricAcid  ResidualSugar  \\\n",
              "0       3           3.2             1.16        0.98           54.2   \n",
              "1       3           4.5             0.16        0.81           26.1   \n",
              "\n",
              "   Chlorides  FreeSulfurDioxide  TotalSulfurDioxide  Density    pH  Sulphates  \\\n",
              "0      0.567                NaN               268.0  0.99280  3.33       0.59   \n",
              "1      0.425               15.0               327.0  1.02792  3.38       0.70   \n",
              "\n",
              "   Alcohol  LabelAppeal  AcidIndex  STARS  \n",
              "0      9.9            0          8    2.0  \n",
              "1      NaN           -1          7    3.0  "
            ],
            "text/html": [
              "\n",
              "  <div id=\"df-ed577bbd-4831-4747-87ef-1a194ecbff25\" class=\"colab-df-container\">\n",
              "    <div>\n",
              "<style scoped>\n",
              "    .dataframe tbody tr th:only-of-type {\n",
              "        vertical-align: middle;\n",
              "    }\n",
              "\n",
              "    .dataframe tbody tr th {\n",
              "        vertical-align: top;\n",
              "    }\n",
              "\n",
              "    .dataframe thead th {\n",
              "        text-align: right;\n",
              "    }\n",
              "</style>\n",
              "<table border=\"1\" class=\"dataframe\">\n",
              "  <thead>\n",
              "    <tr style=\"text-align: right;\">\n",
              "      <th></th>\n",
              "      <th>TARGET</th>\n",
              "      <th>FixedAcidity</th>\n",
              "      <th>VolatileAcidity</th>\n",
              "      <th>CitricAcid</th>\n",
              "      <th>ResidualSugar</th>\n",
              "      <th>Chlorides</th>\n",
              "      <th>FreeSulfurDioxide</th>\n",
              "      <th>TotalSulfurDioxide</th>\n",
              "      <th>Density</th>\n",
              "      <th>pH</th>\n",
              "      <th>Sulphates</th>\n",
              "      <th>Alcohol</th>\n",
              "      <th>LabelAppeal</th>\n",
              "      <th>AcidIndex</th>\n",
              "      <th>STARS</th>\n",
              "    </tr>\n",
              "  </thead>\n",
              "  <tbody>\n",
              "    <tr>\n",
              "      <th>0</th>\n",
              "      <td>3</td>\n",
              "      <td>3.2</td>\n",
              "      <td>1.16</td>\n",
              "      <td>0.98</td>\n",
              "      <td>54.2</td>\n",
              "      <td>0.567</td>\n",
              "      <td>NaN</td>\n",
              "      <td>268.0</td>\n",
              "      <td>0.99280</td>\n",
              "      <td>3.33</td>\n",
              "      <td>0.59</td>\n",
              "      <td>9.9</td>\n",
              "      <td>0</td>\n",
              "      <td>8</td>\n",
              "      <td>2.0</td>\n",
              "    </tr>\n",
              "    <tr>\n",
              "      <th>1</th>\n",
              "      <td>3</td>\n",
              "      <td>4.5</td>\n",
              "      <td>0.16</td>\n",
              "      <td>0.81</td>\n",
              "      <td>26.1</td>\n",
              "      <td>0.425</td>\n",
              "      <td>15.0</td>\n",
              "      <td>327.0</td>\n",
              "      <td>1.02792</td>\n",
              "      <td>3.38</td>\n",
              "      <td>0.70</td>\n",
              "      <td>NaN</td>\n",
              "      <td>-1</td>\n",
              "      <td>7</td>\n",
              "      <td>3.0</td>\n",
              "    </tr>\n",
              "  </tbody>\n",
              "</table>\n",
              "</div>\n",
              "    <div class=\"colab-df-buttons\">\n",
              "\n",
              "  <div class=\"colab-df-container\">\n",
              "    <button class=\"colab-df-convert\" onclick=\"convertToInteractive('df-ed577bbd-4831-4747-87ef-1a194ecbff25')\"\n",
              "            title=\"Convert this dataframe to an interactive table.\"\n",
              "            style=\"display:none;\">\n",
              "\n",
              "  <svg xmlns=\"http://www.w3.org/2000/svg\" height=\"24px\" viewBox=\"0 -960 960 960\">\n",
              "    <path d=\"M120-120v-720h720v720H120Zm60-500h600v-160H180v160Zm220 220h160v-160H400v160Zm0 220h160v-160H400v160ZM180-400h160v-160H180v160Zm440 0h160v-160H620v160ZM180-180h160v-160H180v160Zm440 0h160v-160H620v160Z\"/>\n",
              "  </svg>\n",
              "    </button>\n",
              "\n",
              "  <style>\n",
              "    .colab-df-container {\n",
              "      display:flex;\n",
              "      gap: 12px;\n",
              "    }\n",
              "\n",
              "    .colab-df-convert {\n",
              "      background-color: #E8F0FE;\n",
              "      border: none;\n",
              "      border-radius: 50%;\n",
              "      cursor: pointer;\n",
              "      display: none;\n",
              "      fill: #1967D2;\n",
              "      height: 32px;\n",
              "      padding: 0 0 0 0;\n",
              "      width: 32px;\n",
              "    }\n",
              "\n",
              "    .colab-df-convert:hover {\n",
              "      background-color: #E2EBFA;\n",
              "      box-shadow: 0px 1px 2px rgba(60, 64, 67, 0.3), 0px 1px 3px 1px rgba(60, 64, 67, 0.15);\n",
              "      fill: #174EA6;\n",
              "    }\n",
              "\n",
              "    .colab-df-buttons div {\n",
              "      margin-bottom: 4px;\n",
              "    }\n",
              "\n",
              "    [theme=dark] .colab-df-convert {\n",
              "      background-color: #3B4455;\n",
              "      fill: #D2E3FC;\n",
              "    }\n",
              "\n",
              "    [theme=dark] .colab-df-convert:hover {\n",
              "      background-color: #434B5C;\n",
              "      box-shadow: 0px 1px 3px 1px rgba(0, 0, 0, 0.15);\n",
              "      filter: drop-shadow(0px 1px 2px rgba(0, 0, 0, 0.3));\n",
              "      fill: #FFFFFF;\n",
              "    }\n",
              "  </style>\n",
              "\n",
              "    <script>\n",
              "      const buttonEl =\n",
              "        document.querySelector('#df-ed577bbd-4831-4747-87ef-1a194ecbff25 button.colab-df-convert');\n",
              "      buttonEl.style.display =\n",
              "        google.colab.kernel.accessAllowed ? 'block' : 'none';\n",
              "\n",
              "      async function convertToInteractive(key) {\n",
              "        const element = document.querySelector('#df-ed577bbd-4831-4747-87ef-1a194ecbff25');\n",
              "        const dataTable =\n",
              "          await google.colab.kernel.invokeFunction('convertToInteractive',\n",
              "                                                    [key], {});\n",
              "        if (!dataTable) return;\n",
              "\n",
              "        const docLinkHtml = 'Like what you see? Visit the ' +\n",
              "          '<a target=\"_blank\" href=https://colab.research.google.com/notebooks/data_table.ipynb>data table notebook</a>'\n",
              "          + ' to learn more about interactive tables.';\n",
              "        element.innerHTML = '';\n",
              "        dataTable['output_type'] = 'display_data';\n",
              "        await google.colab.output.renderOutput(dataTable, element);\n",
              "        const docLink = document.createElement('div');\n",
              "        docLink.innerHTML = docLinkHtml;\n",
              "        element.appendChild(docLink);\n",
              "      }\n",
              "    </script>\n",
              "  </div>\n",
              "\n",
              "\n",
              "<div id=\"df-5a311a67-66ee-497f-b388-b4f196ba48c6\">\n",
              "  <button class=\"colab-df-quickchart\" onclick=\"quickchart('df-5a311a67-66ee-497f-b388-b4f196ba48c6')\"\n",
              "            title=\"Suggest charts.\"\n",
              "            style=\"display:none;\">\n",
              "\n",
              "<svg xmlns=\"http://www.w3.org/2000/svg\" height=\"24px\"viewBox=\"0 0 24 24\"\n",
              "     width=\"24px\">\n",
              "    <g>\n",
              "        <path d=\"M19 3H5c-1.1 0-2 .9-2 2v14c0 1.1.9 2 2 2h14c1.1 0 2-.9 2-2V5c0-1.1-.9-2-2-2zM9 17H7v-7h2v7zm4 0h-2V7h2v10zm4 0h-2v-4h2v4z\"/>\n",
              "    </g>\n",
              "</svg>\n",
              "  </button>\n",
              "\n",
              "<style>\n",
              "  .colab-df-quickchart {\n",
              "      --bg-color: #E8F0FE;\n",
              "      --fill-color: #1967D2;\n",
              "      --hover-bg-color: #E2EBFA;\n",
              "      --hover-fill-color: #174EA6;\n",
              "      --disabled-fill-color: #AAA;\n",
              "      --disabled-bg-color: #DDD;\n",
              "  }\n",
              "\n",
              "  [theme=dark] .colab-df-quickchart {\n",
              "      --bg-color: #3B4455;\n",
              "      --fill-color: #D2E3FC;\n",
              "      --hover-bg-color: #434B5C;\n",
              "      --hover-fill-color: #FFFFFF;\n",
              "      --disabled-bg-color: #3B4455;\n",
              "      --disabled-fill-color: #666;\n",
              "  }\n",
              "\n",
              "  .colab-df-quickchart {\n",
              "    background-color: var(--bg-color);\n",
              "    border: none;\n",
              "    border-radius: 50%;\n",
              "    cursor: pointer;\n",
              "    display: none;\n",
              "    fill: var(--fill-color);\n",
              "    height: 32px;\n",
              "    padding: 0;\n",
              "    width: 32px;\n",
              "  }\n",
              "\n",
              "  .colab-df-quickchart:hover {\n",
              "    background-color: var(--hover-bg-color);\n",
              "    box-shadow: 0 1px 2px rgba(60, 64, 67, 0.3), 0 1px 3px 1px rgba(60, 64, 67, 0.15);\n",
              "    fill: var(--button-hover-fill-color);\n",
              "  }\n",
              "\n",
              "  .colab-df-quickchart-complete:disabled,\n",
              "  .colab-df-quickchart-complete:disabled:hover {\n",
              "    background-color: var(--disabled-bg-color);\n",
              "    fill: var(--disabled-fill-color);\n",
              "    box-shadow: none;\n",
              "  }\n",
              "\n",
              "  .colab-df-spinner {\n",
              "    border: 2px solid var(--fill-color);\n",
              "    border-color: transparent;\n",
              "    border-bottom-color: var(--fill-color);\n",
              "    animation:\n",
              "      spin 1s steps(1) infinite;\n",
              "  }\n",
              "\n",
              "  @keyframes spin {\n",
              "    0% {\n",
              "      border-color: transparent;\n",
              "      border-bottom-color: var(--fill-color);\n",
              "      border-left-color: var(--fill-color);\n",
              "    }\n",
              "    20% {\n",
              "      border-color: transparent;\n",
              "      border-left-color: var(--fill-color);\n",
              "      border-top-color: var(--fill-color);\n",
              "    }\n",
              "    30% {\n",
              "      border-color: transparent;\n",
              "      border-left-color: var(--fill-color);\n",
              "      border-top-color: var(--fill-color);\n",
              "      border-right-color: var(--fill-color);\n",
              "    }\n",
              "    40% {\n",
              "      border-color: transparent;\n",
              "      border-right-color: var(--fill-color);\n",
              "      border-top-color: var(--fill-color);\n",
              "    }\n",
              "    60% {\n",
              "      border-color: transparent;\n",
              "      border-right-color: var(--fill-color);\n",
              "    }\n",
              "    80% {\n",
              "      border-color: transparent;\n",
              "      border-right-color: var(--fill-color);\n",
              "      border-bottom-color: var(--fill-color);\n",
              "    }\n",
              "    90% {\n",
              "      border-color: transparent;\n",
              "      border-bottom-color: var(--fill-color);\n",
              "    }\n",
              "  }\n",
              "</style>\n",
              "\n",
              "  <script>\n",
              "    async function quickchart(key) {\n",
              "      const quickchartButtonEl =\n",
              "        document.querySelector('#' + key + ' button');\n",
              "      quickchartButtonEl.disabled = true;  // To prevent multiple clicks.\n",
              "      quickchartButtonEl.classList.add('colab-df-spinner');\n",
              "      try {\n",
              "        const charts = await google.colab.kernel.invokeFunction(\n",
              "            'suggestCharts', [key], {});\n",
              "      } catch (error) {\n",
              "        console.error('Error during call to suggestCharts:', error);\n",
              "      }\n",
              "      quickchartButtonEl.classList.remove('colab-df-spinner');\n",
              "      quickchartButtonEl.classList.add('colab-df-quickchart-complete');\n",
              "    }\n",
              "    (() => {\n",
              "      let quickchartButtonEl =\n",
              "        document.querySelector('#df-5a311a67-66ee-497f-b388-b4f196ba48c6 button');\n",
              "      quickchartButtonEl.style.display =\n",
              "        google.colab.kernel.accessAllowed ? 'block' : 'none';\n",
              "    })();\n",
              "  </script>\n",
              "</div>\n",
              "    </div>\n",
              "  </div>\n"
            ]
          },
          "metadata": {},
          "execution_count": 45
        }
      ]
    }
  ],
  "metadata": {
    "kernelspec": {
      "display_name": "Python 3",
      "language": "python",
      "name": "python3"
    },
    "language_info": {
      "codemirror_mode": {
        "name": "ipython",
        "version": 3
      },
      "file_extension": ".py",
      "mimetype": "text/x-python",
      "name": "python",
      "nbconvert_exporter": "python",
      "pygments_lexer": "ipython3",
      "version": "3.7.3"
    },
    "colab": {
      "provenance": []
    }
  },
  "nbformat": 4,
  "nbformat_minor": 0
}