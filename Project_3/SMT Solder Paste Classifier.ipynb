{
 "cells": [
  {
   "cell_type": "code",
   "execution_count": null,
   "metadata": {},
   "outputs": [
    {
     "name": "stdout",
     "output_type": "stream",
     "text": [
      "Running on local URL:  http://127.0.0.1:7861\n",
      "Running on public URL: https://396b01ed0c8bf37384.gradio.live\n",
      "\n",
      "This share link expires in 72 hours. For free permanent hosting and GPU upgrades, run `gradio deploy` from Terminal to deploy to Spaces (https://huggingface.co/spaces)\n"
     ]
    },
    {
     "data": {
      "text/html": [
       "<div><iframe src=\"https://396b01ed0c8bf37384.gradio.live\" width=\"100%\" height=\"500\" allow=\"autoplay; camera; microphone; clipboard-read; clipboard-write;\" frameborder=\"0\" allowfullscreen></iframe></div>"
      ],
      "text/plain": [
       "<IPython.core.display.HTML object>"
      ]
     },
     "metadata": {},
     "output_type": "display_data"
    },
    {
     "data": {
      "text/plain": []
     },
     "execution_count": 7,
     "metadata": {},
     "output_type": "execute_result"
    },
    {
     "data": {
      "text/html": [
       "\n",
       "<style>\n",
       "    /* Turns off some styling */\n",
       "    progress {\n",
       "        /* gets rid of default border in Firefox and Opera. */\n",
       "        border: none;\n",
       "        /* Needs to be in here for Safari polyfill so background images work as expected. */\n",
       "        background-size: auto;\n",
       "    }\n",
       "    progress:not([value]), progress:not([value])::-webkit-progress-bar {\n",
       "        background: repeating-linear-gradient(45deg, #7e7e7e, #7e7e7e 10px, #5c5c5c 10px, #5c5c5c 20px);\n",
       "    }\n",
       "    .progress-bar-interrupted, .progress-bar-interrupted::-webkit-progress-bar {\n",
       "        background: #F44336;\n",
       "    }\n",
       "</style>\n"
      ],
      "text/plain": [
       "<IPython.core.display.HTML object>"
      ]
     },
     "metadata": {},
     "output_type": "display_data"
    },
    {
     "data": {
      "text/html": [],
      "text/plain": [
       "<IPython.core.display.HTML object>"
      ]
     },
     "metadata": {},
     "output_type": "display_data"
    }
   ],
   "source": [
    "import gradio as gr\n",
    "from gradio import components\n",
    "from fastai.vision.all import *\n",
    "from PIL import Image\n",
    "\n",
    "# Ensure you're using the correct path for your model file\n",
    "path = Path('/Users/lizhengnan/Desktop')\n",
    "learn = load_learner(path/'export.pkl')\n",
    "\n",
    "def classify_image(img):\n",
    "    try:\n",
    "        img = PILImage.create(img)\n",
    "        pred, idx, probs = learn.predict(img)\n",
    "        return {learn.dls.vocab[i]: float(prob) for i, prob in enumerate(probs)}\n",
    "    except Exception as e:\n",
    "        # Print out the error details and stack trace\n",
    "        print(f\"Error during prediction: {e}\")\n",
    "        raise e\n",
    "\n",
    "# Create the Gradio interface using the new import paths\n",
    "image_input = components.Image()\n",
    "label = components.Label()\n",
    "\n",
    "interface = gr.Interface(\n",
    "    fn=classify_image,\n",
    "    inputs=image_input,\n",
    "    outputs=label,\n",
    "    title=\"SMT Solder Paste Classifier\",\n",
    "    description=\"Upload an X-ray image of SMT solder paste to classify it as good or defective.\",\n",
    "    flagging_dir=\"/Users/lizhengnan/Desktop/gradio_flagged\"  # 指定一个可写入的目录\n",
    ")\n",
    "\n",
    "# Launch the interface with share enabled to get a public link\n",
    "interface.launch(share=True)\n"
   ]
  }
 ],
 "metadata": {
  "kernelspec": {
   "display_name": "Python 3",
   "language": "python",
   "name": "python3"
  },
  "language_info": {
   "codemirror_mode": {
    "name": "ipython",
    "version": 3
   },
   "file_extension": ".py",
   "mimetype": "text/x-python",
   "name": "python",
   "nbconvert_exporter": "python",
   "pygments_lexer": "ipython3",
   "version": "3.11.5"
  }
 },
 "nbformat": 4,
 "nbformat_minor": 2
}
